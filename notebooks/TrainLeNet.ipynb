{
 "cells": [
  {
   "cell_type": "code",
   "execution_count": 1,
   "id": "b74f835e-8f34-4877-a49a-d013a71e7ead",
   "metadata": {},
   "outputs": [],
   "source": [
    "import sys\n",
    "if '..' not in sys.path:\n",
    "    sys.path.append('..')"
   ]
  },
  {
   "cell_type": "code",
   "execution_count": 2,
   "id": "43ee825a-96d7-4a6c-83d4-864945dfe66d",
   "metadata": {},
   "outputs": [
    {
     "name": "stderr",
     "output_type": "stream",
     "text": [
      "/home/d.cherniuk/.conda/mark23/lib/python3.9/site-packages/tqdm-4.64.1-py3.9.egg/tqdm/auto.py:22: TqdmWarning: IProgress not found. Please update jupyter and ipywidgets. See https://ipywidgets.readthedocs.io/en/stable/user_install.html\n",
      "  from .autonotebook import tqdm as notebook_tqdm\n"
     ]
    }
   ],
   "source": [
    "import pandas as pd\n",
    "import numpy as np\n",
    "import torch\n",
    "\n",
    "from torch import nn, optim\n",
    "from torch.autograd import Variable\n",
    "import torch.nn.functional as F\n",
    "from torchvision.datasets import mnist\n",
    "from torchvision.transforms import ToTensor\n",
    "from torch.optim import SGD\n",
    "from torch.optim.lr_scheduler import ExponentialLR\n",
    "from torch.nn import CrossEntropyLoss\n",
    "from torch.utils.data import DataLoader\n",
    "\n",
    "from tqdm import tqdm\n",
    "\n",
    "from source.models import LeNet"
   ]
  },
  {
   "cell_type": "code",
   "execution_count": 3,
   "id": "8e4b3038-775d-46fb-9c14-da5311f71359",
   "metadata": {},
   "outputs": [
    {
     "name": "stdout",
     "output_type": "stream",
     "text": [
      "LeNet(\n",
      "  (conv1): Conv2d(1, 6, kernel_size=(5, 5), stride=(1, 1))\n",
      "  (relu1): ReLU()\n",
      "  (pool1): MaxPool2d(kernel_size=2, stride=2, padding=0, dilation=1, ceil_mode=False)\n",
      "  (conv2): Conv2d(6, 16, kernel_size=(5, 5), stride=(1, 1))\n",
      "  (relu2): ReLU()\n",
      "  (pool2): MaxPool2d(kernel_size=2, stride=2, padding=0, dilation=1, ceil_mode=False)\n",
      "  (fc1): Linear(in_features=256, out_features=120, bias=True)\n",
      "  (relu3): ReLU()\n",
      "  (fc2): Linear(in_features=120, out_features=84, bias=True)\n",
      "  (relu4): ReLU()\n",
      "  (fc3): Linear(in_features=84, out_features=10, bias=True)\n",
      "  (relu5): ReLU()\n",
      ")\n"
     ]
    }
   ],
   "source": [
    "model = LeNet()\n",
    "print (model)"
   ]
  },
  {
   "cell_type": "code",
   "execution_count": 79,
   "id": "3e105c83-e07d-4964-8959-08ecbb6ae457",
   "metadata": {},
   "outputs": [
    {
     "name": "stdout",
     "output_type": "stream",
     "text": [
      "USE GPU\n"
     ]
    }
   ],
   "source": [
    "use_gpu = torch.cuda.is_available()\n",
    "if use_gpu:\n",
    "    model = model.cuda()\n",
    "    print ('USE GPU')\n",
    "else:\n",
    "    print ('USE CPU')"
   ]
  },
  {
   "cell_type": "code",
   "execution_count": 80,
   "id": "ec38c8d4-d193-4145-8801-36b9795aa3e8",
   "metadata": {},
   "outputs": [],
   "source": [
    "batch_size = 256\n",
    "train_dataset = mnist.MNIST(root='../data/MNIST/train', train=True, transform=ToTensor())\n",
    "test_dataset = mnist.MNIST(root='../data/MNIST/test', train=False, transform=ToTensor())\n",
    "train_loader = DataLoader(train_dataset, batch_size=batch_size)\n",
    "test_loader = DataLoader(test_dataset, batch_size=batch_size)"
   ]
  },
  {
   "cell_type": "code",
   "execution_count": null,
   "id": "397e8b0b-cf4f-4c94-b1d1-95b4ad861116",
   "metadata": {},
   "outputs": [
    {
     "name": "stderr",
     "output_type": "stream",
     "text": [
      "  0%|          | 0/100 [00:00<?, ?it/s]"
     ]
    },
    {
     "name": "stdout",
     "output_type": "stream",
     "text": [
      "idx: 0, loss: 2.3066253662109375, lr: 0.1000\n",
      "idx: 100, loss: 2.3000175952911377, lr: 0.1000\n",
      "idx: 200, loss: 2.2729179859161377, lr: 0.1000\n"
     ]
    },
    {
     "name": "stderr",
     "output_type": "stream",
     "text": [
      "  1%|          | 1/100 [00:07<13:02,  7.90s/it]"
     ]
    },
    {
     "name": "stdout",
     "output_type": "stream",
     "text": [
      "epoch: 0, accuracy: 0.3023\n",
      "idx: 0, loss: 2.19880747795105, lr: 0.1000\n",
      "idx: 100, loss: 1.3139128684997559, lr: 0.1000\n",
      "idx: 200, loss: 0.39360862970352173, lr: 0.1000\n"
     ]
    },
    {
     "name": "stderr",
     "output_type": "stream",
     "text": [
      "  2%|▏         | 2/100 [00:15<12:49,  7.85s/it]"
     ]
    },
    {
     "name": "stdout",
     "output_type": "stream",
     "text": [
      "epoch: 1, accuracy: 0.8083\n",
      "idx: 0, loss: 0.5522695779800415, lr: 0.1000\n",
      "idx: 100, loss: 0.49001389741897583, lr: 0.1000\n",
      "idx: 200, loss: 0.3138923943042755, lr: 0.1000\n"
     ]
    },
    {
     "name": "stderr",
     "output_type": "stream",
     "text": [
      "  3%|▎         | 3/100 [00:23<12:40,  7.84s/it]"
     ]
    },
    {
     "name": "stdout",
     "output_type": "stream",
     "text": [
      "epoch: 2, accuracy: 0.8435\n",
      "idx: 0, loss: 0.46075111627578735, lr: 0.1000\n",
      "idx: 100, loss: 0.4452064037322998, lr: 0.1000\n",
      "idx: 200, loss: 0.29947131872177124, lr: 0.1000\n"
     ]
    },
    {
     "name": "stderr",
     "output_type": "stream",
     "text": [
      "  4%|▍         | 4/100 [00:31<12:33,  7.84s/it]"
     ]
    },
    {
     "name": "stdout",
     "output_type": "stream",
     "text": [
      "epoch: 3, accuracy: 0.8525\n",
      "idx: 0, loss: 0.43547847867012024, lr: 0.1000\n",
      "idx: 100, loss: 0.42145097255706787, lr: 0.1000\n",
      "idx: 200, loss: 0.28988075256347656, lr: 0.1000\n"
     ]
    },
    {
     "name": "stderr",
     "output_type": "stream",
     "text": [
      "  5%|▌         | 5/100 [00:39<12:33,  7.93s/it]"
     ]
    },
    {
     "name": "stdout",
     "output_type": "stream",
     "text": [
      "epoch: 4, accuracy: 0.8581\n",
      "idx: 0, loss: 0.4236050248146057, lr: 0.1000\n",
      "idx: 100, loss: 0.4024706780910492, lr: 0.1000\n",
      "idx: 200, loss: 0.28465259075164795, lr: 0.1000\n"
     ]
    },
    {
     "name": "stderr",
     "output_type": "stream",
     "text": [
      "  6%|▌         | 6/100 [00:47<12:21,  7.89s/it]"
     ]
    },
    {
     "name": "stdout",
     "output_type": "stream",
     "text": [
      "epoch: 5, accuracy: 0.8600\n",
      "idx: 0, loss: 0.4160088300704956, lr: 0.1000\n",
      "idx: 100, loss: 0.3902117908000946, lr: 0.1000\n",
      "idx: 200, loss: 0.2775580585002899, lr: 0.1000\n"
     ]
    },
    {
     "name": "stderr",
     "output_type": "stream",
     "text": [
      "  7%|▋         | 7/100 [00:55<12:10,  7.86s/it]"
     ]
    },
    {
     "name": "stdout",
     "output_type": "stream",
     "text": [
      "epoch: 6, accuracy: 0.8619\n",
      "idx: 0, loss: 0.40999284386634827, lr: 0.1000\n",
      "idx: 100, loss: 0.38418498635292053, lr: 0.1000\n",
      "idx: 200, loss: 0.26969870924949646, lr: 0.1000\n"
     ]
    },
    {
     "name": "stderr",
     "output_type": "stream",
     "text": [
      "  8%|▊         | 8/100 [01:02<12:01,  7.84s/it]"
     ]
    },
    {
     "name": "stdout",
     "output_type": "stream",
     "text": [
      "epoch: 7, accuracy: 0.8641\n",
      "idx: 0, loss: 0.4008336663246155, lr: 0.1000\n",
      "idx: 100, loss: 0.37882500886917114, lr: 0.1000\n",
      "idx: 200, loss: 0.2647288739681244, lr: 0.1000\n"
     ]
    },
    {
     "name": "stderr",
     "output_type": "stream",
     "text": [
      "  9%|▉         | 9/100 [01:10<11:51,  7.82s/it]"
     ]
    },
    {
     "name": "stdout",
     "output_type": "stream",
     "text": [
      "epoch: 8, accuracy: 0.8654\n",
      "idx: 0, loss: 0.39602357149124146, lr: 0.1000\n",
      "idx: 100, loss: 0.37545984983444214, lr: 0.1000\n",
      "idx: 200, loss: 0.26146239042282104, lr: 0.1000\n"
     ]
    },
    {
     "name": "stderr",
     "output_type": "stream",
     "text": [
      " 10%|█         | 10/100 [01:18<11:39,  7.78s/it]"
     ]
    },
    {
     "name": "stdout",
     "output_type": "stream",
     "text": [
      "epoch: 9, accuracy: 0.8658\n",
      "idx: 0, loss: 0.3906729817390442, lr: 0.1000\n",
      "idx: 100, loss: 0.3720244765281677, lr: 0.1000\n",
      "idx: 200, loss: 0.2541240155696869, lr: 0.1000\n"
     ]
    },
    {
     "name": "stderr",
     "output_type": "stream",
     "text": [
      " 11%|█         | 11/100 [01:25<11:28,  7.73s/it]"
     ]
    },
    {
     "name": "stdout",
     "output_type": "stream",
     "text": [
      "epoch: 10, accuracy: 0.8675\n",
      "idx: 0, loss: 0.38735225796699524, lr: 0.1000\n",
      "idx: 100, loss: 0.37031158804893494, lr: 0.1000\n",
      "idx: 200, loss: 0.2479344606399536, lr: 0.1000\n"
     ]
    },
    {
     "name": "stderr",
     "output_type": "stream",
     "text": [
      " 12%|█▏        | 12/100 [01:33<11:20,  7.73s/it]"
     ]
    },
    {
     "name": "stdout",
     "output_type": "stream",
     "text": [
      "epoch: 11, accuracy: 0.8689\n",
      "idx: 0, loss: 0.3827042579650879, lr: 0.1000\n",
      "idx: 100, loss: 0.36580637097358704, lr: 0.1000\n",
      "idx: 200, loss: 0.24264346063137054, lr: 0.1000\n"
     ]
    },
    {
     "name": "stderr",
     "output_type": "stream",
     "text": [
      " 13%|█▎        | 13/100 [01:41<11:15,  7.77s/it]"
     ]
    },
    {
     "name": "stdout",
     "output_type": "stream",
     "text": [
      "epoch: 12, accuracy: 0.8696\n",
      "idx: 0, loss: 0.38196855783462524, lr: 0.1000\n",
      "idx: 100, loss: 0.36303526163101196, lr: 0.1000\n",
      "idx: 200, loss: 0.23789438605308533, lr: 0.1000\n"
     ]
    },
    {
     "name": "stderr",
     "output_type": "stream",
     "text": [
      " 14%|█▍        | 14/100 [01:49<11:09,  7.79s/it]"
     ]
    },
    {
     "name": "stdout",
     "output_type": "stream",
     "text": [
      "epoch: 13, accuracy: 0.8698\n",
      "idx: 0, loss: 0.3772725462913513, lr: 0.1000\n",
      "idx: 100, loss: 0.3609956204891205, lr: 0.1000\n",
      "idx: 200, loss: 0.2339523583650589, lr: 0.1000\n"
     ]
    },
    {
     "name": "stderr",
     "output_type": "stream",
     "text": [
      " 15%|█▌        | 15/100 [01:57<11:01,  7.78s/it]"
     ]
    },
    {
     "name": "stdout",
     "output_type": "stream",
     "text": [
      "epoch: 14, accuracy: 0.8699\n",
      "idx: 0, loss: 0.37505587935447693, lr: 0.1000\n",
      "idx: 100, loss: 0.3593282997608185, lr: 0.1000\n",
      "idx: 200, loss: 0.23063646256923676, lr: 0.1000\n"
     ]
    },
    {
     "name": "stderr",
     "output_type": "stream",
     "text": [
      " 16%|█▌        | 16/100 [02:04<10:55,  7.80s/it]"
     ]
    },
    {
     "name": "stdout",
     "output_type": "stream",
     "text": [
      "epoch: 15, accuracy: 0.8696\n",
      "idx: 0, loss: 0.37062540650367737, lr: 0.1000\n",
      "idx: 100, loss: 0.3556584417819977, lr: 0.1000\n",
      "idx: 200, loss: 0.22802352905273438, lr: 0.1000\n"
     ]
    },
    {
     "name": "stderr",
     "output_type": "stream",
     "text": [
      " 17%|█▋        | 17/100 [02:12<10:49,  7.83s/it]"
     ]
    },
    {
     "name": "stdout",
     "output_type": "stream",
     "text": [
      "epoch: 16, accuracy: 0.8698\n",
      "idx: 0, loss: 0.36636632680892944, lr: 0.1000\n",
      "idx: 100, loss: 0.35455402731895447, lr: 0.1000\n",
      "idx: 200, loss: 0.22410240769386292, lr: 0.1000\n"
     ]
    },
    {
     "name": "stderr",
     "output_type": "stream",
     "text": [
      " 18%|█▊        | 18/100 [02:20<10:40,  7.81s/it]"
     ]
    },
    {
     "name": "stdout",
     "output_type": "stream",
     "text": [
      "epoch: 17, accuracy: 0.8703\n",
      "idx: 0, loss: 0.3624468445777893, lr: 0.1000\n",
      "idx: 100, loss: 0.3518489599227905, lr: 0.1000\n",
      "idx: 200, loss: 0.22351202368736267, lr: 0.1000\n"
     ]
    },
    {
     "name": "stderr",
     "output_type": "stream",
     "text": [
      " 19%|█▉        | 19/100 [02:28<10:33,  7.82s/it]"
     ]
    },
    {
     "name": "stdout",
     "output_type": "stream",
     "text": [
      "epoch: 18, accuracy: 0.8689\n",
      "idx: 0, loss: 0.3602955639362335, lr: 0.1000\n",
      "idx: 100, loss: 0.3493976891040802, lr: 0.1000\n",
      "idx: 200, loss: 0.22355236113071442, lr: 0.1000\n"
     ]
    },
    {
     "name": "stderr",
     "output_type": "stream",
     "text": [
      " 20%|██        | 20/100 [02:36<10:23,  7.79s/it]"
     ]
    },
    {
     "name": "stdout",
     "output_type": "stream",
     "text": [
      "epoch: 19, accuracy: 0.8699\n",
      "idx: 0, loss: 0.35452166199684143, lr: 0.1000\n",
      "idx: 100, loss: 0.3472931683063507, lr: 0.1000\n",
      "idx: 200, loss: 0.03849228098988533, lr: 0.1000\n"
     ]
    },
    {
     "name": "stderr",
     "output_type": "stream",
     "text": [
      " 21%|██        | 21/100 [02:44<10:16,  7.80s/it]"
     ]
    },
    {
     "name": "stdout",
     "output_type": "stream",
     "text": [
      "epoch: 20, accuracy: 0.9794\n",
      "idx: 0, loss: 0.05143138766288757, lr: 0.1000\n",
      "idx: 100, loss: 0.03358294069766998, lr: 0.1000\n",
      "idx: 200, loss: 0.038121145218610764, lr: 0.1000\n"
     ]
    },
    {
     "name": "stderr",
     "output_type": "stream",
     "text": [
      " 22%|██▏       | 22/100 [02:51<10:06,  7.77s/it]"
     ]
    },
    {
     "name": "stdout",
     "output_type": "stream",
     "text": [
      "epoch: 21, accuracy: 0.9803\n",
      "idx: 0, loss: 0.043282993137836456, lr: 0.1000\n",
      "idx: 100, loss: 0.021633600816130638, lr: 0.1000\n",
      "idx: 200, loss: 0.03281031921505928, lr: 0.1000\n"
     ]
    },
    {
     "name": "stderr",
     "output_type": "stream",
     "text": [
      " 23%|██▎       | 23/100 [02:59<09:57,  7.76s/it]"
     ]
    },
    {
     "name": "stdout",
     "output_type": "stream",
     "text": [
      "epoch: 22, accuracy: 0.9785\n",
      "idx: 0, loss: 0.044460032135248184, lr: 0.1000\n",
      "idx: 100, loss: 0.028878170996904373, lr: 0.1000\n",
      "idx: 200, loss: 0.03466261923313141, lr: 0.1000\n"
     ]
    },
    {
     "name": "stderr",
     "output_type": "stream",
     "text": [
      " 24%|██▍       | 24/100 [03:07<09:49,  7.76s/it]"
     ]
    },
    {
     "name": "stdout",
     "output_type": "stream",
     "text": [
      "epoch: 23, accuracy: 0.9796\n",
      "idx: 0, loss: 0.03895904868841171, lr: 0.1000\n",
      "idx: 100, loss: 0.015956740826368332, lr: 0.1000\n",
      "idx: 200, loss: 0.02778482250869274, lr: 0.1000\n"
     ]
    },
    {
     "name": "stderr",
     "output_type": "stream",
     "text": [
      " 25%|██▌       | 25/100 [03:14<09:39,  7.73s/it]"
     ]
    },
    {
     "name": "stdout",
     "output_type": "stream",
     "text": [
      "epoch: 24, accuracy: 0.9804\n",
      "idx: 0, loss: 0.033576205372810364, lr: 0.1000\n",
      "idx: 100, loss: 0.013815099373459816, lr: 0.1000\n",
      "idx: 200, loss: 0.027995945885777473, lr: 0.1000\n"
     ]
    },
    {
     "name": "stderr",
     "output_type": "stream",
     "text": [
      " 26%|██▌       | 26/100 [03:22<09:31,  7.72s/it]"
     ]
    },
    {
     "name": "stdout",
     "output_type": "stream",
     "text": [
      "epoch: 25, accuracy: 0.9790\n",
      "idx: 0, loss: 0.034793127328157425, lr: 0.1000\n",
      "idx: 100, loss: 0.012838732451200485, lr: 0.1000\n",
      "idx: 200, loss: 0.022037148475646973, lr: 0.1000\n"
     ]
    },
    {
     "name": "stderr",
     "output_type": "stream",
     "text": [
      " 27%|██▋       | 27/100 [03:30<09:25,  7.75s/it]"
     ]
    },
    {
     "name": "stdout",
     "output_type": "stream",
     "text": [
      "epoch: 26, accuracy: 0.9795\n",
      "idx: 0, loss: 0.027061203494668007, lr: 0.1000\n",
      "idx: 100, loss: 0.01164129190146923, lr: 0.1000\n",
      "idx: 200, loss: 0.022231917828321457, lr: 0.1000\n"
     ]
    },
    {
     "name": "stderr",
     "output_type": "stream",
     "text": [
      " 28%|██▊       | 28/100 [03:38<09:20,  7.78s/it]"
     ]
    },
    {
     "name": "stdout",
     "output_type": "stream",
     "text": [
      "epoch: 27, accuracy: 0.9804\n",
      "idx: 0, loss: 0.02213195338845253, lr: 0.1000\n",
      "idx: 100, loss: 0.008775913156569004, lr: 0.1000\n",
      "idx: 200, loss: 0.01569669134914875, lr: 0.1000\n"
     ]
    },
    {
     "name": "stderr",
     "output_type": "stream",
     "text": [
      " 29%|██▉       | 29/100 [03:46<09:12,  7.79s/it]"
     ]
    },
    {
     "name": "stdout",
     "output_type": "stream",
     "text": [
      "epoch: 28, accuracy: 0.9828\n",
      "idx: 0, loss: 0.015841834247112274, lr: 0.1000\n",
      "idx: 100, loss: 0.008820247836411, lr: 0.1000\n",
      "idx: 200, loss: 0.012916368432343006, lr: 0.1000\n"
     ]
    },
    {
     "name": "stderr",
     "output_type": "stream",
     "text": [
      " 30%|███       | 30/100 [03:53<09:03,  7.77s/it]"
     ]
    },
    {
     "name": "stdout",
     "output_type": "stream",
     "text": [
      "epoch: 29, accuracy: 0.9865\n",
      "idx: 0, loss: 0.013326246291399002, lr: 0.1000\n",
      "idx: 100, loss: 0.005677432753145695, lr: 0.1000\n",
      "idx: 200, loss: 0.01071394607424736, lr: 0.1000\n"
     ]
    },
    {
     "name": "stderr",
     "output_type": "stream",
     "text": [
      " 31%|███       | 31/100 [04:01<08:56,  7.77s/it]"
     ]
    },
    {
     "name": "stdout",
     "output_type": "stream",
     "text": [
      "epoch: 30, accuracy: 0.9834\n",
      "idx: 0, loss: 0.013493080623447895, lr: 0.1000\n",
      "idx: 100, loss: 0.0051623317413032055, lr: 0.1000\n",
      "idx: 200, loss: 0.010306333191692829, lr: 0.1000\n"
     ]
    },
    {
     "name": "stderr",
     "output_type": "stream",
     "text": [
      " 32%|███▏      | 32/100 [04:09<08:48,  7.78s/it]"
     ]
    },
    {
     "name": "stdout",
     "output_type": "stream",
     "text": [
      "epoch: 31, accuracy: 0.9874\n",
      "idx: 0, loss: 0.011062361299991608, lr: 0.1000\n",
      "idx: 100, loss: 0.005385090596973896, lr: 0.1000\n",
      "idx: 200, loss: 0.014608589932322502, lr: 0.1000\n"
     ]
    },
    {
     "name": "stderr",
     "output_type": "stream",
     "text": [
      " 33%|███▎      | 33/100 [04:17<08:38,  7.74s/it]"
     ]
    },
    {
     "name": "stdout",
     "output_type": "stream",
     "text": [
      "epoch: 32, accuracy: 0.9796\n",
      "idx: 0, loss: 0.018657134845852852, lr: 0.1000\n",
      "idx: 100, loss: 0.0047352802939713, lr: 0.1000\n",
      "idx: 200, loss: 0.6102109551429749, lr: 0.1000\n"
     ]
    },
    {
     "name": "stderr",
     "output_type": "stream",
     "text": [
      " 34%|███▍      | 34/100 [04:24<08:30,  7.73s/it]"
     ]
    },
    {
     "name": "stdout",
     "output_type": "stream",
     "text": [
      "epoch: 33, accuracy: 0.7708\n",
      "idx: 0, loss: 0.6731176376342773, lr: 0.1000\n",
      "idx: 100, loss: 0.40977609157562256, lr: 0.1000\n",
      "idx: 200, loss: 0.35837095975875854, lr: 0.1000\n"
     ]
    },
    {
     "name": "stderr",
     "output_type": "stream",
     "text": [
      " 35%|███▌      | 35/100 [04:32<08:23,  7.74s/it]"
     ]
    },
    {
     "name": "stdout",
     "output_type": "stream",
     "text": [
      "epoch: 34, accuracy: 0.8273\n",
      "idx: 0, loss: 0.4570131301879883, lr: 0.1000\n",
      "idx: 100, loss: 0.31223049759864807, lr: 0.1000\n",
      "idx: 200, loss: 0.3073732256889343, lr: 0.1000\n"
     ]
    },
    {
     "name": "stderr",
     "output_type": "stream",
     "text": [
      " 36%|███▌      | 36/100 [04:40<08:15,  7.74s/it]"
     ]
    },
    {
     "name": "stdout",
     "output_type": "stream",
     "text": [
      "epoch: 35, accuracy: 0.8691\n",
      "idx: 0, loss: 0.35057514905929565, lr: 0.1000\n",
      "idx: 100, loss: 0.2898760437965393, lr: 0.1000\n",
      "idx: 200, loss: 0.29138806462287903, lr: 0.1000\n"
     ]
    },
    {
     "name": "stderr",
     "output_type": "stream",
     "text": [
      " 37%|███▋      | 37/100 [04:48<08:09,  7.77s/it]"
     ]
    },
    {
     "name": "stdout",
     "output_type": "stream",
     "text": [
      "epoch: 36, accuracy: 0.9630\n",
      "idx: 0, loss: 0.16166625916957855, lr: 0.1000\n",
      "idx: 100, loss: 0.09706924110651016, lr: 0.1000\n",
      "idx: 200, loss: 0.07724222540855408, lr: 0.1000\n"
     ]
    },
    {
     "name": "stderr",
     "output_type": "stream",
     "text": [
      " 38%|███▊      | 38/100 [04:55<08:00,  7.75s/it]"
     ]
    },
    {
     "name": "stdout",
     "output_type": "stream",
     "text": [
      "epoch: 37, accuracy: 0.9712\n",
      "idx: 0, loss: 0.14061897993087769, lr: 0.1000\n",
      "idx: 100, loss: 0.09313605725765228, lr: 0.1000\n",
      "idx: 200, loss: 0.08262010663747787, lr: 0.1000\n"
     ]
    },
    {
     "name": "stderr",
     "output_type": "stream",
     "text": [
      " 39%|███▉      | 39/100 [05:03<07:51,  7.73s/it]"
     ]
    },
    {
     "name": "stdout",
     "output_type": "stream",
     "text": [
      "epoch: 38, accuracy: 0.9736\n",
      "idx: 0, loss: 0.13773538172245026, lr: 0.1000\n",
      "idx: 100, loss: 0.07581393420696259, lr: 0.1000\n",
      "idx: 200, loss: 0.0638037770986557, lr: 0.1000\n"
     ]
    },
    {
     "name": "stderr",
     "output_type": "stream",
     "text": [
      " 40%|████      | 40/100 [05:11<07:41,  7.70s/it]"
     ]
    },
    {
     "name": "stdout",
     "output_type": "stream",
     "text": [
      "epoch: 39, accuracy: 0.9755\n",
      "idx: 0, loss: 0.12330541759729385, lr: 0.1000\n",
      "idx: 100, loss: 0.04820810630917549, lr: 0.1000\n",
      "idx: 200, loss: 0.06501330435276031, lr: 0.1000\n"
     ]
    },
    {
     "name": "stderr",
     "output_type": "stream",
     "text": [
      " 41%|████      | 41/100 [05:18<07:33,  7.68s/it]"
     ]
    },
    {
     "name": "stdout",
     "output_type": "stream",
     "text": [
      "epoch: 40, accuracy: 0.9765\n",
      "idx: 0, loss: 0.10434527695178986, lr: 0.1000\n",
      "idx: 100, loss: 0.036272596567869186, lr: 0.1000\n",
      "idx: 200, loss: 0.06545783579349518, lr: 0.1000\n"
     ]
    },
    {
     "name": "stderr",
     "output_type": "stream",
     "text": [
      " 42%|████▏     | 42/100 [05:26<07:25,  7.68s/it]"
     ]
    },
    {
     "name": "stdout",
     "output_type": "stream",
     "text": [
      "epoch: 41, accuracy: 0.9787\n",
      "idx: 0, loss: 0.09386248886585236, lr: 0.1000\n",
      "idx: 100, loss: 0.031883180141448975, lr: 0.1000\n",
      "idx: 200, loss: 0.061933062970638275, lr: 0.1000\n"
     ]
    },
    {
     "name": "stderr",
     "output_type": "stream",
     "text": [
      " 43%|████▎     | 43/100 [05:34<07:22,  7.76s/it]"
     ]
    },
    {
     "name": "stdout",
     "output_type": "stream",
     "text": [
      "epoch: 42, accuracy: 0.9796\n",
      "idx: 0, loss: 0.08905487507581711, lr: 0.1000\n",
      "idx: 100, loss: 0.030659057199954987, lr: 0.1000\n",
      "idx: 200, loss: 0.061353955417871475, lr: 0.1000\n"
     ]
    },
    {
     "name": "stderr",
     "output_type": "stream",
     "text": [
      " 44%|████▍     | 44/100 [05:43<07:36,  8.15s/it]"
     ]
    },
    {
     "name": "stdout",
     "output_type": "stream",
     "text": [
      "epoch: 43, accuracy: 0.9799\n",
      "idx: 0, loss: 0.07463084906339645, lr: 0.1000\n",
      "idx: 100, loss: 0.02547132968902588, lr: 0.1000\n",
      "idx: 200, loss: 0.05614548921585083, lr: 0.1000\n"
     ]
    },
    {
     "name": "stderr",
     "output_type": "stream",
     "text": [
      " 45%|████▌     | 45/100 [05:52<07:36,  8.31s/it]"
     ]
    },
    {
     "name": "stdout",
     "output_type": "stream",
     "text": [
      "epoch: 44, accuracy: 0.9801\n",
      "idx: 0, loss: 0.06754020601511002, lr: 0.1000\n",
      "idx: 100, loss: 0.021797316148877144, lr: 0.1000\n",
      "idx: 200, loss: 0.057059403508901596, lr: 0.1000\n"
     ]
    },
    {
     "name": "stderr",
     "output_type": "stream",
     "text": [
      " 46%|████▌     | 46/100 [05:59<07:17,  8.11s/it]"
     ]
    },
    {
     "name": "stdout",
     "output_type": "stream",
     "text": [
      "epoch: 45, accuracy: 0.9807\n",
      "idx: 0, loss: 0.05526634678244591, lr: 0.1000\n",
      "idx: 100, loss: 0.020169004797935486, lr: 0.1000\n",
      "idx: 200, loss: 0.049796056002378464, lr: 0.1000\n"
     ]
    },
    {
     "name": "stderr",
     "output_type": "stream",
     "text": [
      " 47%|████▋     | 47/100 [06:07<07:02,  7.96s/it]"
     ]
    },
    {
     "name": "stdout",
     "output_type": "stream",
     "text": [
      "epoch: 46, accuracy: 0.9678\n",
      "idx: 0, loss: 0.057704370468854904, lr: 0.1000\n",
      "idx: 100, loss: 0.01655711978673935, lr: 0.1000\n",
      "idx: 200, loss: 0.05626349896192551, lr: 0.1000\n"
     ]
    },
    {
     "name": "stderr",
     "output_type": "stream",
     "text": [
      " 48%|████▊     | 48/100 [06:14<06:48,  7.86s/it]"
     ]
    },
    {
     "name": "stdout",
     "output_type": "stream",
     "text": [
      "epoch: 47, accuracy: 0.9777\n",
      "idx: 0, loss: 0.048208341002464294, lr: 0.1000\n",
      "idx: 100, loss: 0.01848151907324791, lr: 0.1000\n",
      "idx: 200, loss: 0.05350951477885246, lr: 0.1000\n"
     ]
    },
    {
     "name": "stderr",
     "output_type": "stream",
     "text": [
      " 49%|████▉     | 49/100 [06:22<06:37,  7.79s/it]"
     ]
    },
    {
     "name": "stdout",
     "output_type": "stream",
     "text": [
      "epoch: 48, accuracy: 0.9803\n",
      "idx: 0, loss: 0.04238530620932579, lr: 0.1000\n",
      "idx: 100, loss: 0.014935720711946487, lr: 0.1000\n",
      "idx: 200, loss: 0.04610732942819595, lr: 0.1000\n"
     ]
    },
    {
     "name": "stderr",
     "output_type": "stream",
     "text": [
      " 50%|█████     | 50/100 [06:30<06:26,  7.73s/it]"
     ]
    },
    {
     "name": "stdout",
     "output_type": "stream",
     "text": [
      "epoch: 49, accuracy: 0.9793\n",
      "idx: 0, loss: 0.042927078902721405, lr: 0.1000\n",
      "idx: 100, loss: 0.014451613649725914, lr: 0.1000\n",
      "idx: 200, loss: 0.05126386880874634, lr: 0.1000\n"
     ]
    },
    {
     "name": "stderr",
     "output_type": "stream",
     "text": [
      " 51%|█████     | 51/100 [06:37<06:16,  7.68s/it]"
     ]
    },
    {
     "name": "stdout",
     "output_type": "stream",
     "text": [
      "epoch: 50, accuracy: 0.9798\n",
      "idx: 0, loss: 0.03372975066304207, lr: 0.1000\n",
      "idx: 100, loss: 0.010444959625601768, lr: 0.1000\n",
      "idx: 200, loss: 0.05340968072414398, lr: 0.1000\n"
     ]
    },
    {
     "name": "stderr",
     "output_type": "stream",
     "text": [
      " 52%|█████▏    | 52/100 [06:45<06:08,  7.67s/it]"
     ]
    },
    {
     "name": "stdout",
     "output_type": "stream",
     "text": [
      "epoch: 51, accuracy: 0.9789\n",
      "idx: 0, loss: 0.030140064656734467, lr: 0.1000\n",
      "idx: 100, loss: 0.010530749335885048, lr: 0.1000\n",
      "idx: 200, loss: 0.03995943441987038, lr: 0.1000\n"
     ]
    },
    {
     "name": "stderr",
     "output_type": "stream",
     "text": [
      " 53%|█████▎    | 53/100 [06:52<05:59,  7.64s/it]"
     ]
    },
    {
     "name": "stdout",
     "output_type": "stream",
     "text": [
      "epoch: 52, accuracy: 0.9810\n",
      "idx: 0, loss: 0.03568849712610245, lr: 0.1000\n",
      "idx: 100, loss: 0.009534686803817749, lr: 0.1000\n",
      "idx: 200, loss: 0.037360887974500656, lr: 0.1000\n"
     ]
    },
    {
     "name": "stderr",
     "output_type": "stream",
     "text": [
      " 54%|█████▍    | 54/100 [07:00<05:51,  7.64s/it]"
     ]
    },
    {
     "name": "stdout",
     "output_type": "stream",
     "text": [
      "epoch: 53, accuracy: 0.9843\n",
      "idx: 0, loss: 0.026164162904024124, lr: 0.1000\n",
      "idx: 100, loss: 0.007993760518729687, lr: 0.1000\n",
      "idx: 200, loss: 0.03593531623482704, lr: 0.1000\n"
     ]
    },
    {
     "name": "stderr",
     "output_type": "stream",
     "text": [
      " 55%|█████▌    | 55/100 [07:08<05:43,  7.63s/it]"
     ]
    },
    {
     "name": "stdout",
     "output_type": "stream",
     "text": [
      "epoch: 54, accuracy: 0.9785\n",
      "idx: 0, loss: 0.030155766755342484, lr: 0.1000\n",
      "idx: 100, loss: 0.006140735931694508, lr: 0.1000\n",
      "idx: 200, loss: 0.031822796911001205, lr: 0.1000\n"
     ]
    },
    {
     "name": "stderr",
     "output_type": "stream",
     "text": [
      " 56%|█████▌    | 56/100 [07:15<05:35,  7.63s/it]"
     ]
    },
    {
     "name": "stdout",
     "output_type": "stream",
     "text": [
      "epoch: 55, accuracy: 0.9744\n",
      "idx: 0, loss: 0.04734877124428749, lr: 0.1000\n",
      "idx: 100, loss: 0.0054810550063848495, lr: 0.1000\n",
      "idx: 200, loss: 0.030697371810674667, lr: 0.1000\n"
     ]
    },
    {
     "name": "stderr",
     "output_type": "stream",
     "text": [
      " 57%|█████▋    | 57/100 [07:23<05:27,  7.61s/it]"
     ]
    },
    {
     "name": "stdout",
     "output_type": "stream",
     "text": [
      "epoch: 56, accuracy: 0.9812\n",
      "idx: 0, loss: 0.023137178272008896, lr: 0.1000\n",
      "idx: 100, loss: 0.004926546011120081, lr: 0.1000\n",
      "idx: 200, loss: 0.02823570929467678, lr: 0.1000\n"
     ]
    },
    {
     "name": "stderr",
     "output_type": "stream",
     "text": [
      " 58%|█████▊    | 58/100 [07:31<05:19,  7.60s/it]"
     ]
    },
    {
     "name": "stdout",
     "output_type": "stream",
     "text": [
      "epoch: 57, accuracy: 0.9837\n",
      "idx: 0, loss: 0.018874451518058777, lr: 0.1000\n",
      "idx: 100, loss: 0.005792136304080486, lr: 0.1000\n",
      "idx: 200, loss: 0.03260209038853645, lr: 0.1000\n"
     ]
    },
    {
     "name": "stderr",
     "output_type": "stream",
     "text": [
      " 59%|█████▉    | 59/100 [07:38<05:11,  7.61s/it]"
     ]
    },
    {
     "name": "stdout",
     "output_type": "stream",
     "text": [
      "epoch: 58, accuracy: 0.9774\n",
      "idx: 0, loss: 0.02279854379594326, lr: 0.1000\n",
      "idx: 100, loss: 0.004481595940887928, lr: 0.1000\n",
      "idx: 200, loss: 0.02842152863740921, lr: 0.1000\n"
     ]
    },
    {
     "name": "stderr",
     "output_type": "stream",
     "text": [
      " 60%|██████    | 60/100 [07:46<05:04,  7.62s/it]"
     ]
    },
    {
     "name": "stdout",
     "output_type": "stream",
     "text": [
      "epoch: 59, accuracy: 0.9840\n",
      "idx: 0, loss: 0.01375897042453289, lr: 0.1000\n",
      "idx: 100, loss: 0.00375877832993865, lr: 0.1000\n",
      "idx: 200, loss: 0.050935082137584686, lr: 0.1000\n"
     ]
    },
    {
     "name": "stderr",
     "output_type": "stream",
     "text": [
      " 61%|██████    | 61/100 [07:54<05:04,  7.80s/it]"
     ]
    },
    {
     "name": "stdout",
     "output_type": "stream",
     "text": [
      "epoch: 60, accuracy: 0.9775\n",
      "idx: 0, loss: 0.024373434484004974, lr: 0.1000\n",
      "idx: 100, loss: 0.004935755394399166, lr: 0.1000\n",
      "idx: 200, loss: 0.02619485929608345, lr: 0.1000\n"
     ]
    },
    {
     "name": "stderr",
     "output_type": "stream",
     "text": [
      " 62%|██████▏   | 62/100 [08:03<05:10,  8.16s/it]"
     ]
    },
    {
     "name": "stdout",
     "output_type": "stream",
     "text": [
      "epoch: 61, accuracy: 0.9849\n",
      "idx: 0, loss: 0.01396365649998188, lr: 0.1000\n",
      "idx: 100, loss: 0.004221439827233553, lr: 0.1000\n",
      "idx: 200, loss: 0.02628035843372345, lr: 0.1000\n"
     ]
    },
    {
     "name": "stderr",
     "output_type": "stream",
     "text": [
      " 63%|██████▎   | 63/100 [08:11<05:03,  8.20s/it]"
     ]
    },
    {
     "name": "stdout",
     "output_type": "stream",
     "text": [
      "epoch: 62, accuracy: 0.9754\n",
      "idx: 0, loss: 0.011883208528161049, lr: 0.1000\n",
      "idx: 100, loss: 0.005733121186494827, lr: 0.1000\n",
      "idx: 200, loss: 0.020696552470326424, lr: 0.1000\n"
     ]
    },
    {
     "name": "stderr",
     "output_type": "stream",
     "text": [
      " 64%|██████▍   | 64/100 [08:19<04:49,  8.03s/it]"
     ]
    },
    {
     "name": "stdout",
     "output_type": "stream",
     "text": [
      "epoch: 63, accuracy: 0.9806\n",
      "idx: 0, loss: 0.012843303382396698, lr: 0.1000\n",
      "idx: 100, loss: 0.003849214408546686, lr: 0.1000\n",
      "idx: 200, loss: 0.018401363864541054, lr: 0.1000\n"
     ]
    },
    {
     "name": "stderr",
     "output_type": "stream",
     "text": [
      " 65%|██████▌   | 65/100 [08:27<04:36,  7.90s/it]"
     ]
    },
    {
     "name": "stdout",
     "output_type": "stream",
     "text": [
      "epoch: 64, accuracy: 0.9803\n",
      "idx: 0, loss: 0.007988644763827324, lr: 0.1000\n",
      "idx: 100, loss: 0.007299194578081369, lr: 0.1000\n",
      "idx: 200, loss: 0.017052477225661278, lr: 0.1000\n"
     ]
    },
    {
     "name": "stderr",
     "output_type": "stream",
     "text": [
      " 66%|██████▌   | 66/100 [08:34<04:25,  7.80s/it]"
     ]
    },
    {
     "name": "stdout",
     "output_type": "stream",
     "text": [
      "epoch: 65, accuracy: 0.9818\n",
      "idx: 0, loss: 0.00812169536948204, lr: 0.1000\n",
      "idx: 100, loss: 0.00595737062394619, lr: 0.1000\n",
      "idx: 200, loss: 0.02388622611761093, lr: 0.1000\n"
     ]
    },
    {
     "name": "stderr",
     "output_type": "stream",
     "text": [
      " 67%|██████▋   | 67/100 [08:42<04:15,  7.74s/it]"
     ]
    },
    {
     "name": "stdout",
     "output_type": "stream",
     "text": [
      "epoch: 66, accuracy: 0.9843\n",
      "idx: 0, loss: 0.00662318617105484, lr: 0.1000\n",
      "idx: 100, loss: 0.0034386725164949894, lr: 0.1000\n",
      "idx: 200, loss: 0.031140977516770363, lr: 0.1000\n"
     ]
    },
    {
     "name": "stderr",
     "output_type": "stream",
     "text": [
      " 68%|██████▊   | 68/100 [08:49<04:06,  7.69s/it]"
     ]
    },
    {
     "name": "stdout",
     "output_type": "stream",
     "text": [
      "epoch: 67, accuracy: 0.9769\n",
      "idx: 0, loss: 0.009986327029764652, lr: 0.1000\n",
      "idx: 100, loss: 0.0025564092211425304, lr: 0.1000\n",
      "idx: 200, loss: 0.023488134145736694, lr: 0.1000\n"
     ]
    },
    {
     "name": "stderr",
     "output_type": "stream",
     "text": [
      " 69%|██████▉   | 69/100 [08:57<03:57,  7.66s/it]"
     ]
    },
    {
     "name": "stdout",
     "output_type": "stream",
     "text": [
      "epoch: 68, accuracy: 0.9773\n",
      "idx: 0, loss: 0.005689974408596754, lr: 0.1000\n"
     ]
    }
   ],
   "source": [
    "optimizer = SGD(model.parameters(), lr=1e-1)\n",
    "scheduler = ExponentialLR(optimizer, gamma=0.99)\n",
    "loss_fn = CrossEntropyLoss()\n",
    "all_epoch = 100\n",
    "\n",
    "for current_epoch in tqdm(range(all_epoch)):\n",
    "    model.train()\n",
    "    for idx, (train_x, train_label) in enumerate(train_loader):\n",
    "        if use_gpu:\n",
    "            train_x = train_x.cuda()\n",
    "            train_label = train_label.cuda()\n",
    "        optimizer.zero_grad()\n",
    "        predict_y = model(train_x.float())\n",
    "        loss = loss_fn(predict_y, train_label.long())\n",
    "        if idx % 100 == 0:\n",
    "            print('idx: {}, loss: {}, lr: {:.4f}'.format(idx, loss.sum().item(), scheduler.get_last_lr()[0]))\n",
    "        loss.backward()\n",
    "        optimizer.step()\n",
    "#     scheduler.step()\n",
    "    \n",
    "\n",
    "    all_correct_num = 0\n",
    "    all_sample_num = 0\n",
    "    model.eval()\n",
    "    for idx, (test_x, test_label) in enumerate(test_loader):\n",
    "        if use_gpu:\n",
    "            test_x = test_x.cuda()\n",
    "            test_label = test_label.cuda()\n",
    "        predict_y = model(test_x.float()).detach()\n",
    "        predict_y = torch.argmax(predict_y, axis=-1)\n",
    "        current_correct_num = predict_y == test_label\n",
    "        all_correct_num += np.sum(current_correct_num.cpu().numpy(), axis=-1)\n",
    "        all_sample_num += current_correct_num.shape[0]\n",
    "    acc = all_correct_num / all_sample_num\n",
    "    print('epoch: {}, accuracy: {:.4f}'.format(current_epoch, acc))"
   ]
  },
  {
   "cell_type": "code",
   "execution_count": null,
   "id": "c897fed6-be6e-48fd-8a20-3cf293c4f13c",
   "metadata": {},
   "outputs": [],
   "source": []
  },
  {
   "cell_type": "code",
   "execution_count": 72,
   "id": "eb916cac-10ff-4fa2-b1b5-bf15bdbfbaed",
   "metadata": {},
   "outputs": [],
   "source": [
    "torch.save(model, '../models/lenet_mnist_{:.3f}.pkl'.format(acc))"
   ]
  },
  {
   "cell_type": "code",
   "execution_count": null,
   "id": "52469b0c-c5a0-4a57-aeb4-f711be49b890",
   "metadata": {},
   "outputs": [],
   "source": []
  }
 ],
 "metadata": {
  "kernelspec": {
   "display_name": "mark23",
   "language": "python",
   "name": "mark23"
  },
  "language_info": {
   "codemirror_mode": {
    "name": "ipython",
    "version": 3
   },
   "file_extension": ".py",
   "mimetype": "text/x-python",
   "name": "python",
   "nbconvert_exporter": "python",
   "pygments_lexer": "ipython3",
   "version": "3.9.15"
  }
 },
 "nbformat": 4,
 "nbformat_minor": 5
}

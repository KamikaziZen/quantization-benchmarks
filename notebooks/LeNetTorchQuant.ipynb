{
 "cells": [
  {
   "cell_type": "code",
   "execution_count": 1,
   "id": "2ab1c749-2155-41e9-9626-715e65d134fa",
   "metadata": {},
   "outputs": [],
   "source": [
    "import sys\n",
    "if '..' not in sys.path:\n",
    "    sys.path.append('..')"
   ]
  },
  {
   "cell_type": "code",
   "execution_count": 2,
   "id": "9e1c3ad4-c893-4a5a-8dd0-d01ca6a653fc",
   "metadata": {},
   "outputs": [
    {
     "name": "stderr",
     "output_type": "stream",
     "text": [
      "/home/d.cherniuk/.conda/mark23/lib/python3.9/site-packages/tqdm-4.64.1-py3.9.egg/tqdm/auto.py:22: TqdmWarning: IProgress not found. Please update jupyter and ipywidgets. See https://ipywidgets.readthedocs.io/en/stable/user_install.html\n",
      "  from .autonotebook import tqdm as notebook_tqdm\n"
     ]
    }
   ],
   "source": [
    "import torch\n",
    "from torch import nn\n",
    "from torchvision.datasets import mnist\n",
    "from torchvision.transforms import ToTensor\n",
    "from torch.utils.data import DataLoader\n",
    "\n",
    "import numpy as np\n",
    "from tqdm import tqdm\n",
    "\n",
    "from source.models import LeNet, LeNetQuant"
   ]
  },
  {
   "cell_type": "code",
   "execution_count": 3,
   "id": "4d5684ce-d453-4195-862c-8ccea9a70edd",
   "metadata": {},
   "outputs": [
    {
     "data": {
      "text/plain": [
       "LeNet(\n",
       "  (conv1): Conv2d(1, 6, kernel_size=(5, 5), stride=(1, 1))\n",
       "  (relu1): ReLU()\n",
       "  (pool1): MaxPool2d(kernel_size=2, stride=2, padding=0, dilation=1, ceil_mode=False)\n",
       "  (conv2): Conv2d(6, 16, kernel_size=(5, 5), stride=(1, 1))\n",
       "  (relu2): ReLU()\n",
       "  (pool2): MaxPool2d(kernel_size=2, stride=2, padding=0, dilation=1, ceil_mode=False)\n",
       "  (fc1): Linear(in_features=256, out_features=120, bias=True)\n",
       "  (relu3): ReLU()\n",
       "  (fc2): Linear(in_features=120, out_features=84, bias=True)\n",
       "  (relu4): ReLU()\n",
       "  (fc3): Linear(in_features=84, out_features=10, bias=True)\n",
       "  (relu5): ReLU()\n",
       ")"
      ]
     },
     "execution_count": 3,
     "metadata": {},
     "output_type": "execute_result"
    }
   ],
   "source": [
    "model = LeNet()\n",
    "model.load_state_dict(torch.load('../models/lenet_mnist_0.989.sd'))\n",
    "model.eval()"
   ]
  },
  {
   "cell_type": "code",
   "execution_count": 4,
   "id": "1cacf33d-9eca-4315-89f1-a8d3382036a0",
   "metadata": {},
   "outputs": [],
   "source": [
    "# use_gpu = torch.cuda.is_available()\n",
    "# if use_gpu:\n",
    "#     model = model.cuda()\n",
    "#     print ('USE GPU')\n",
    "# else:\n",
    "#     print ('USE CPU')"
   ]
  },
  {
   "cell_type": "code",
   "execution_count": 5,
   "id": "969e71ba-3dc5-431e-bd34-75f6920b0976",
   "metadata": {},
   "outputs": [],
   "source": [
    "model = model.cpu()"
   ]
  },
  {
   "cell_type": "code",
   "execution_count": 6,
   "id": "642a2c50-c02a-4579-9a04-117f75f12f5a",
   "metadata": {},
   "outputs": [],
   "source": [
    "batch_size = 256\n",
    "train_dataset = mnist.MNIST(root='../data/MNIST/train', train=True, transform=ToTensor())\n",
    "test_dataset = mnist.MNIST(root='../data/MNIST/test', train=False, transform=ToTensor())\n",
    "train_loader = DataLoader(train_dataset, batch_size=batch_size)\n",
    "test_loader = DataLoader(test_dataset, batch_size=batch_size)"
   ]
  },
  {
   "cell_type": "code",
   "execution_count": 7,
   "id": "760d0625-d748-4e51-bb26-90197f7f61e9",
   "metadata": {},
   "outputs": [
    {
     "name": "stderr",
     "output_type": "stream",
     "text": [
      "100%|██████████| 40/40 [00:00<00:00, 43.28it/s]"
     ]
    },
    {
     "name": "stdout",
     "output_type": "stream",
     "text": [
      "accuracy: 0.9889\n"
     ]
    },
    {
     "name": "stderr",
     "output_type": "stream",
     "text": [
      "\n"
     ]
    }
   ],
   "source": [
    "model.eval()\n",
    "use_gpu = False\n",
    "all_correct_num = 0\n",
    "all_sample_num = 0\n",
    "with torch.no_grad():\n",
    "    for test_x, test_label in tqdm(test_loader):\n",
    "        if use_gpu:\n",
    "            test_x = test_x.cuda()\n",
    "            test_label = test_label.cuda()\n",
    "        predict_y = model(test_x.float()).detach()\n",
    "        predict_y = torch.argmax(predict_y, axis=-1)\n",
    "        current_correct_num = predict_y == test_label\n",
    "        all_correct_num += np.sum(current_correct_num.cpu().numpy(), axis=-1)\n",
    "        all_sample_num += current_correct_num.shape[0]\n",
    "    acc = all_correct_num / all_sample_num\n",
    "print('accuracy: {:.4f}'.format(acc))"
   ]
  },
  {
   "cell_type": "markdown",
   "id": "60040ac1-58fd-4dba-bae0-f27bc3555ba6",
   "metadata": {},
   "source": [
    "# Eager Mode Quantization"
   ]
  },
  {
   "cell_type": "markdown",
   "id": "ee10f277-8e85-4d96-84b7-b8145165652b",
   "metadata": {},
   "source": [
    "## Dynamic Quantization"
   ]
  },
  {
   "cell_type": "code",
   "execution_count": 16,
   "id": "37448c3a-c020-492f-a429-d39856be7b31",
   "metadata": {},
   "outputs": [],
   "source": [
    "# model_int8 = torch.quantization.quantize_dynamic(\n",
    "#     model,\n",
    "#     {torch.nn.Linear, torch.nn.Conv2d, torch.nn.MaxPool2d, torch.nn.ReLU},\n",
    "#     dtype=torch.qint8\n",
    "# )\n",
    "model = torch.quantization.quantize_dynamic(\n",
    "    model,\n",
    "    {torch.nn.Conv2d, torch.nn.Linear},\n",
    "    dtype=torch.qint8\n",
    ")"
   ]
  },
  {
   "cell_type": "code",
   "execution_count": 17,
   "id": "88775353-477d-4190-afaa-0a2135b97405",
   "metadata": {},
   "outputs": [
    {
     "data": {
      "text/plain": [
       "torch.float32"
      ]
     },
     "execution_count": 17,
     "metadata": {},
     "output_type": "execute_result"
    }
   ],
   "source": [
    "model.conv1.weight.dtype"
   ]
  },
  {
   "cell_type": "code",
   "execution_count": 18,
   "id": "06b26fc7-09c9-40e8-a1c0-07089474bcd9",
   "metadata": {},
   "outputs": [
    {
     "name": "stderr",
     "output_type": "stream",
     "text": [
      "100%|██████████| 40/40 [00:00<00:00, 45.49it/s]"
     ]
    },
    {
     "name": "stdout",
     "output_type": "stream",
     "text": [
      "accuracy: 0.9887\n"
     ]
    },
    {
     "name": "stderr",
     "output_type": "stream",
     "text": [
      "\n"
     ]
    }
   ],
   "source": [
    "model.eval()\n",
    "use_gpu = False\n",
    "all_correct_num = 0\n",
    "all_sample_num = 0\n",
    "with torch.no_grad():\n",
    "    for test_x, test_label in tqdm(test_loader):\n",
    "        if use_gpu:\n",
    "            test_x = test_x.cuda()\n",
    "            test_label = test_label.cuda()\n",
    "        predict_y = model(test_x.float()).detach()\n",
    "        predict_y = torch.argmax(predict_y, axis=-1)\n",
    "        current_correct_num = predict_y == test_label\n",
    "        all_correct_num += np.sum(current_correct_num.cpu().numpy(), axis=-1)\n",
    "        all_sample_num += current_correct_num.shape[0]\n",
    "    acc = all_correct_num / all_sample_num\n",
    "print('accuracy: {:.4f}'.format(acc))"
   ]
  },
  {
   "cell_type": "markdown",
   "id": "e1e74b33-a764-4020-8f7f-9d0254ebbea9",
   "metadata": {},
   "source": [
    "## Static Quantization"
   ]
  },
  {
   "cell_type": "code",
   "execution_count": 18,
   "id": "56eb7a10-0b06-4ef7-bfd2-a477488929aa",
   "metadata": {},
   "outputs": [
    {
     "data": {
      "text/plain": [
       "LeNetQuant(\n",
       "  (conv1): Conv2d(1, 6, kernel_size=(5, 5), stride=(1, 1))\n",
       "  (relu1): ReLU()\n",
       "  (pool1): MaxPool2d(kernel_size=2, stride=2, padding=0, dilation=1, ceil_mode=False)\n",
       "  (conv2): Conv2d(6, 16, kernel_size=(5, 5), stride=(1, 1))\n",
       "  (relu2): ReLU()\n",
       "  (pool2): MaxPool2d(kernel_size=2, stride=2, padding=0, dilation=1, ceil_mode=False)\n",
       "  (fc1): Linear(in_features=256, out_features=120, bias=True)\n",
       "  (relu3): ReLU()\n",
       "  (fc2): Linear(in_features=120, out_features=84, bias=True)\n",
       "  (relu4): ReLU()\n",
       "  (fc3): Linear(in_features=84, out_features=10, bias=True)\n",
       "  (relu5): ReLU()\n",
       "  (quant): QuantStub()\n",
       "  (dequant): DeQuantStub()\n",
       ")"
      ]
     },
     "execution_count": 18,
     "metadata": {},
     "output_type": "execute_result"
    }
   ],
   "source": [
    "model = LeNetQuant()\n",
    "model.load_state_dict(torch.load('../models/lenet_mnist_0.989.sd'))\n",
    "model.eval()"
   ]
  },
  {
   "cell_type": "code",
   "execution_count": 19,
   "id": "74385db3-293f-489b-b17b-f63b56699ed5",
   "metadata": {},
   "outputs": [],
   "source": [
    "model.qconfig = torch.quantization.get_default_qconfig('fbgemm')"
   ]
  },
  {
   "cell_type": "code",
   "execution_count": 20,
   "id": "0901ee0c-379c-47b1-b336-8862e8afae5b",
   "metadata": {},
   "outputs": [],
   "source": [
    "model = torch.quantization.fuse_modules(model, [['conv1', 'relu1'],\n",
    "                                                ['conv2', 'relu2'],\n",
    "                                                ['fc1', 'relu3'],\n",
    "                                                ['fc2', 'relu4'],\n",
    "                                                ['fc3', 'relu5']])"
   ]
  },
  {
   "cell_type": "code",
   "execution_count": 21,
   "id": "842285ad-c948-4c6e-8d30-fa170ff94118",
   "metadata": {},
   "outputs": [],
   "source": [
    "model = torch.quantization.prepare(model)"
   ]
  },
  {
   "cell_type": "code",
   "execution_count": 12,
   "id": "4ca013fb-0a64-4a9c-980c-b62c5d0a32b8",
   "metadata": {},
   "outputs": [
    {
     "data": {
      "text/plain": [
       "ConvReLU2d(\n",
       "  (0): Conv2d(1, 6, kernel_size=(5, 5), stride=(1, 1))\n",
       "  (1): ReLU()\n",
       "  (activation_post_process): HistogramObserver()\n",
       ")"
      ]
     },
     "execution_count": 12,
     "metadata": {},
     "output_type": "execute_result"
    }
   ],
   "source": [
    "model.conv1"
   ]
  },
  {
   "cell_type": "code",
   "execution_count": 22,
   "id": "c747496e-2246-4d26-a90d-9f570a5390b3",
   "metadata": {},
   "outputs": [
    {
     "name": "stderr",
     "output_type": "stream",
     "text": [
      "1it [00:00, 16.52it/s]\n"
     ]
    }
   ],
   "source": [
    "# calibration on ~5% of train dataset\n",
    "model.eval()\n",
    "with torch.no_grad():\n",
    "    for idx, (train_x, _) in tqdm(enumerate(train_loader)):\n",
    "        model(train_x.float())\n",
    "        if idx == 1: break"
   ]
  },
  {
   "cell_type": "code",
   "execution_count": 23,
   "id": "611abcdc-aeba-4468-81be-33ebdb5da6eb",
   "metadata": {},
   "outputs": [],
   "source": [
    "model = torch.quantization.convert(model)"
   ]
  },
  {
   "cell_type": "code",
   "execution_count": 24,
   "id": "4a3a447e-03c2-4b08-ac30-deb2abd0e7f4",
   "metadata": {},
   "outputs": [
    {
     "data": {
      "text/plain": [
       "QuantizedConvReLU2d(1, 6, kernel_size=(5, 5), stride=(1, 1), scale=0.08663195371627808, zero_point=0)"
      ]
     },
     "execution_count": 24,
     "metadata": {},
     "output_type": "execute_result"
    }
   ],
   "source": [
    "model.conv1"
   ]
  },
  {
   "cell_type": "code",
   "execution_count": 25,
   "id": "df5ba3cf-a968-4096-8628-afdd51482b28",
   "metadata": {},
   "outputs": [
    {
     "data": {
      "text/plain": [
       "torch.qint8"
      ]
     },
     "execution_count": 25,
     "metadata": {},
     "output_type": "execute_result"
    }
   ],
   "source": [
    "model.conv1.weight().dtype"
   ]
  },
  {
   "cell_type": "code",
   "execution_count": 26,
   "id": "bfcacc79-a412-457d-8cce-cd63eb73a006",
   "metadata": {},
   "outputs": [
    {
     "name": "stderr",
     "output_type": "stream",
     "text": [
      "100%|██████████| 40/40 [00:01<00:00, 32.40it/s]"
     ]
    },
    {
     "name": "stdout",
     "output_type": "stream",
     "text": [
      "accuracy: 0.9885\n"
     ]
    },
    {
     "name": "stderr",
     "output_type": "stream",
     "text": [
      "\n"
     ]
    }
   ],
   "source": [
    "model.eval()\n",
    "use_gpu = False\n",
    "all_correct_num = 0\n",
    "all_sample_num = 0\n",
    "with torch.no_grad():\n",
    "    for test_x, test_label in tqdm(test_loader):\n",
    "        if use_gpu:\n",
    "            test_x = test_x.cuda()\n",
    "            test_label = test_label.cuda()\n",
    "        predict_y = model(test_x.float()).detach()\n",
    "        predict_y = torch.argmax(predict_y, axis=-1)\n",
    "        current_correct_num = predict_y == test_label\n",
    "        all_correct_num += np.sum(current_correct_num.cpu().numpy(), axis=-1)\n",
    "        all_sample_num += current_correct_num.shape[0]\n",
    "    acc = all_correct_num / all_sample_num\n",
    "print('accuracy: {:.4f}'.format(acc))"
   ]
  },
  {
   "cell_type": "code",
   "execution_count": null,
   "id": "c521e0a5-dda7-4b50-9d59-c7ba1c1b3b87",
   "metadata": {},
   "outputs": [],
   "source": []
  }
 ],
 "metadata": {
  "kernelspec": {
   "display_name": "mark23",
   "language": "python",
   "name": "mark23"
  },
  "language_info": {
   "codemirror_mode": {
    "name": "ipython",
    "version": 3
   },
   "file_extension": ".py",
   "mimetype": "text/x-python",
   "name": "python",
   "nbconvert_exporter": "python",
   "pygments_lexer": "ipython3",
   "version": "3.9.15"
  }
 },
 "nbformat": 4,
 "nbformat_minor": 5
}

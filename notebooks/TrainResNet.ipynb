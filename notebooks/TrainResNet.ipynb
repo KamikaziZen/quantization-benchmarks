{
 "cells": [
  {
   "cell_type": "code",
   "execution_count": 1,
   "id": "4b36d804-22b6-4790-8286-a74c14ca4b7b",
   "metadata": {},
   "outputs": [],
   "source": [
    "import sys\n",
    "if '..' not in sys.path:\n",
    "    sys.path.append('..')"
   ]
  },
  {
   "cell_type": "code",
   "execution_count": 13,
   "id": "8cb11ba1-8713-4097-a785-7f0160718763",
   "metadata": {},
   "outputs": [],
   "source": [
    "import torch \n",
    "import torch.nn as nn\n",
    "import torch.optim as optim\n",
    "from torchvision.models import ResNet\n",
    "\n",
    "from source.models import BasicBlock\n",
    "from source.data import get_training_dataloader, get_test_dataloader"
   ]
  },
  {
   "cell_type": "code",
   "execution_count": 6,
   "id": "3a1aa642-f0ec-48e4-93ae-613ad463748d",
   "metadata": {},
   "outputs": [],
   "source": [
    "CIFAR100_TRAIN_MEAN = (0.5070751592371323, 0.48654887331495095, 0.4409178433670343)\n",
    "CIFAR100_TRAIN_STD = (0.2673342858792401, 0.2564384629170883, 0.27615047132568404)\n",
    "MILESTONES = [60, 120, 160]\n",
    "# data_path = '/gpfs/gpfs0/k.sobolev/cifar-100-python/cifar-100-python/'\n",
    "data_path = '../data'"
   ]
  },
  {
   "cell_type": "code",
   "execution_count": 19,
   "id": "6065f5f5-9803-44bc-9df1-6f75046a27ca",
   "metadata": {},
   "outputs": [
    {
     "name": "stdout",
     "output_type": "stream",
     "text": [
      "Files already downloaded and verified\n",
      "Files already downloaded and verified\n"
     ]
    }
   ],
   "source": [
    "cifar100_training_loader = get_training_dataloader(\n",
    "    data_path,\n",
    "    CIFAR100_TRAIN_MEAN,\n",
    "    CIFAR100_TRAIN_STD,\n",
    "    num_workers=4,\n",
    "    batch_size=64,\n",
    "    shuffle=True\n",
    ")\n",
    "\n",
    "cifar100_test_loader = get_test_dataloader(\n",
    "    data_path,\n",
    "    CIFAR100_TRAIN_MEAN,\n",
    "    CIFAR100_TRAIN_STD,\n",
    "    num_workers=4,\n",
    "    batch_size=64,\n",
    "    shuffle=True\n",
    ")"
   ]
  },
  {
   "cell_type": "code",
   "execution_count": 18,
   "id": "6fceb971-a1e2-471e-8161-6dc401c06cc5",
   "metadata": {},
   "outputs": [],
   "source": [
    "model = ResNet(num_classes=100, block=BasicBlock, layers=[2, 2, 2, 2])\n",
    "model.eval()\n",
    "model = model.cuda()"
   ]
  },
  {
   "cell_type": "code",
   "execution_count": 15,
   "id": "d707f43f-5c89-46c3-b994-5c8b08755bdf",
   "metadata": {},
   "outputs": [],
   "source": [
    "loss_function = nn.CrossEntropyLoss()\n",
    "optimizer = optim.SGD(model.parameters(), lr=0.001, momentum=0.9, weight_decay=5e-4)\n",
    "optimizer = optim.Adam(model.parameters(), lr=0.001, weight_decay=5e-4)"
   ]
  },
  {
   "cell_type": "code",
   "execution_count": 17,
   "id": "015fcba4-95d6-41f8-8ffc-a3c4e92402a1",
   "metadata": {},
   "outputs": [
    {
     "name": "stdout",
     "output_type": "stream",
     "text": [
      "Test set: Epoch: 0, Average loss: 0.0543, Accuracy: 0.1604\n",
      "Test set: Epoch: 1, Average loss: 0.0507, Accuracy: 0.2040\n",
      "Test set: Epoch: 2, Average loss: 0.0477, Accuracy: 0.2395\n",
      "Test set: Epoch: 3, Average loss: 0.0454, Accuracy: 0.2765\n",
      "Test set: Epoch: 4, Average loss: 0.0462, Accuracy: 0.2664\n",
      "Test set: Epoch: 5, Average loss: 0.0442, Accuracy: 0.2954\n",
      "Test set: Epoch: 6, Average loss: 0.0448, Accuracy: 0.2922\n",
      "Test set: Epoch: 7, Average loss: 0.0417, Accuracy: 0.3220\n",
      "Test set: Epoch: 8, Average loss: 0.0416, Accuracy: 0.3212\n",
      "Test set: Epoch: 9, Average loss: 0.0437, Accuracy: 0.3153\n"
     ]
    }
   ],
   "source": [
    "best_acc = 0.0\n",
    "\n",
    "for epoch in range(10):\n",
    "    model.train()\n",
    "    for batch_index, (images, labels) in enumerate(cifar100_training_loader):\n",
    "        labels = labels.cuda()\n",
    "        images = images.cuda()\n",
    "        \n",
    "        optimizer.zero_grad()\n",
    "        outputs = model(images)\n",
    "        loss = loss_function(outputs, labels)\n",
    "        loss.backward()\n",
    "        optimizer.step()\n",
    "    \n",
    "    model.eval()\n",
    "    with torch.no_grad():\n",
    "        test_loss = 0.0\n",
    "        correct = 0.0\n",
    "        \n",
    "        for (images, labels) in cifar100_test_loader:\n",
    "            images = images.cuda()\n",
    "            labels = labels.cuda()\n",
    "\n",
    "            outputs = model(images)\n",
    "            loss = loss_function(outputs, labels)\n",
    "\n",
    "            test_loss += loss.item()\n",
    "            _, preds = outputs.max(1)\n",
    "            correct += preds.eq(labels).sum()\n",
    "    \n",
    "    val_acc = correct.float() / len(cifar100_test_loader.dataset)\n",
    "    print('Test set: Epoch: {}, Average loss: {:.4f}, Accuracy: {:.4f}'.format(\n",
    "        epoch,\n",
    "        test_loss / len(cifar100_test_loader.dataset),\n",
    "        val_acc,\n",
    "    ))\n",
    "    \n",
    "    if val_acc > best_acc:\n",
    "        best_acc = val_acc\n",
    "        torch.save(model.state_dict(), '../models/resnet18_cifar100.sd')\n"
   ]
  },
  {
   "cell_type": "code",
   "execution_count": null,
   "id": "04e77d16-7aea-4d41-90eb-d67668fd34bb",
   "metadata": {},
   "outputs": [],
   "source": [
    "# loss_function = nn.CrossEntropyLoss()\n",
    "# optimizer = optim.SGD(model.parameters(), lr=0.1, momentum=0.9, weight_decay=5e-4)\n",
    "# train_scheduler = optim.lr_scheduler.MultiStepLR(optimizer, milestones=MILESTONES, gamma=0.2) #learning rate decay"
   ]
  },
  {
   "cell_type": "code",
   "execution_count": null,
   "id": "b6de6581-4d1b-4015-bf5c-c5712229e14a",
   "metadata": {},
   "outputs": [],
   "source": [
    "# for epoch in range(10):\n",
    "#     model.train()\n",
    "#     for batch_index, (images, labels) in enumerate(cifar100_training_loader):\n",
    "#         labels = labels.cuda()\n",
    "#         images = images.cuda()\n",
    "        \n",
    "#         optimizer.zero_grad()\n",
    "#         outputs = model(images)\n",
    "#         loss = loss_function(outputs, labels)\n",
    "#         loss.backward()\n",
    "#         optimizer.step()\n",
    "    \n",
    "#     model.eval()\n",
    "#     with torch.no_grad():\n",
    "#         test_loss = 0.0\n",
    "#         correct = 0.0\n",
    "        \n",
    "#         for (images, labels) in cifar100_test_loader:\n",
    "#             images = images.cuda()\n",
    "#             labels = labels.cuda()\n",
    "\n",
    "#             outputs = model(images)\n",
    "#             loss = loss_function(outputs, labels)\n",
    "\n",
    "#             test_loss += loss.item()\n",
    "#             _, preds = outputs.max(1)\n",
    "#             correct += preds.eq(labels).sum()\n",
    "    \n",
    "#     print('Test set: Epoch: {}, Average loss: {:.4f}, Accuracy: {:.4f}, Lr:{:.4f}'.format(\n",
    "#         epoch,\n",
    "#         test_loss / len(cifar100_test_loader.dataset),\n",
    "#         correct.float() / len(cifar100_test_loader.dataset),\n",
    "#         scheduler.get_last_lr()[0]\n",
    "#     ))\n",
    "        \n",
    "#     train_scheduler.step(epoch)"
   ]
  }
 ],
 "metadata": {
  "kernelspec": {
   "display_name": "mark23",
   "language": "python",
   "name": "mark23"
  },
  "language_info": {
   "codemirror_mode": {
    "name": "ipython",
    "version": 3
   },
   "file_extension": ".py",
   "mimetype": "text/x-python",
   "name": "python",
   "nbconvert_exporter": "python",
   "pygments_lexer": "ipython3",
   "version": "3.9.15"
  }
 },
 "nbformat": 4,
 "nbformat_minor": 5
}
